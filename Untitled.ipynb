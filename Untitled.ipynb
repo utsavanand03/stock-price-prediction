{
 "cells": [
  {
   "cell_type": "markdown",
   "id": "7dc4f7ac",
   "metadata": {},
   "source": []
  },
  {
   "cell_type": "code",
   "execution_count": 1,
   "id": "0c07b3a0",
   "metadata": {},
   "outputs": [],
   "source": [
    "import numpy as np\n",
    "import pandas as pd\n",
    "import matplotlib.pyplot as plt"
   ]
  },
  {
   "cell_type": "code",
   "execution_count": 2,
   "id": "79b0c84b",
   "metadata": {},
   "outputs": [],
   "source": [
    "data = pd.read_excel(r'C:\\Users\\hp\\Data Science\\Assignment\\1729258-1613615-Stock_Price_data_set_(1).xlsx')"
   ]
  },
  {
   "cell_type": "code",
   "execution_count": 3,
   "id": "2ec47522",
   "metadata": {},
   "outputs": [
    {
     "data": {
      "text/plain": [
       "(1009, 7)"
      ]
     },
     "execution_count": 3,
     "metadata": {},
     "output_type": "execute_result"
    }
   ],
   "source": [
    "data.shape"
   ]
  },
  {
   "cell_type": "code",
   "execution_count": 4,
   "id": "cee69f30",
   "metadata": {},
   "outputs": [],
   "source": [
    "data = data['Open'].values\n",
    "data = data.reshape(-1,1)"
   ]
  },
  {
   "cell_type": "code",
   "execution_count": 5,
   "id": "b121b368",
   "metadata": {},
   "outputs": [
    {
     "data": {
      "text/plain": [
       "(1009, 1)"
      ]
     },
     "execution_count": 5,
     "metadata": {},
     "output_type": "execute_result"
    }
   ],
   "source": [
    "data.shape"
   ]
  },
  {
   "cell_type": "code",
   "execution_count": 6,
   "id": "678d69fa",
   "metadata": {},
   "outputs": [
    {
     "name": "stdout",
     "output_type": "stream",
     "text": [
      "(807, 1)\n",
      "(202, 1)\n"
     ]
    }
   ],
   "source": [
    "dataset_train = np.array(data[:int(data.shape[0]*0.8)])\n",
    "dataset_test = np.array(data[int(data.shape[0]*0.8):])\n",
    "print(dataset_train.shape)\n",
    "print(dataset_test.shape)"
   ]
  },
  {
   "cell_type": "code",
   "execution_count": 7,
   "id": "7796cac2",
   "metadata": {},
   "outputs": [],
   "source": [
    "from sklearn.preprocessing import MinMaxScaler\n",
    "from keras.models import Sequential, load_model\n",
    "from keras.layers import LSTM, Dropout, Dense"
   ]
  },
  {
   "cell_type": "code",
   "execution_count": 8,
   "id": "32cee2d1",
   "metadata": {},
   "outputs": [
    {
     "data": {
      "text/plain": [
       "array([[0.08056696],\n",
       "       [0.03953748],\n",
       "       [0.09370782],\n",
       "       [0.09514242],\n",
       "       [0.05718305]])"
      ]
     },
     "execution_count": 8,
     "metadata": {},
     "output_type": "execute_result"
    }
   ],
   "source": [
    "scaler = MinMaxScaler(feature_range=(0,1))\n",
    "dataset_train = scaler.fit_transform(dataset_train)\n",
    "dataset_train[:5]"
   ]
  },
  {
   "cell_type": "code",
   "execution_count": 9,
   "id": "71ae6b20",
   "metadata": {},
   "outputs": [
    {
     "data": {
      "text/plain": [
       "array([[0.78638852],\n",
       "       [0.80308725],\n",
       "       [0.78928643],\n",
       "       [0.78283075],\n",
       "       [0.79964418]])"
      ]
     },
     "execution_count": 9,
     "metadata": {},
     "output_type": "execute_result"
    }
   ],
   "source": [
    "dataset_test = scaler.transform(dataset_test)\n",
    "dataset_test[:5]"
   ]
  },
  {
   "cell_type": "code",
   "execution_count": 10,
   "id": "36ea6c93",
   "metadata": {},
   "outputs": [],
   "source": [
    "def create_dataset(data):\n",
    "    x=[]\n",
    "    y=[]\n",
    "    for i in range(50,data.shape[0]):\n",
    "        x.append(data[i-50:i,0])\n",
    "        y.append(data[i,0])\n",
    "    x= np.array(x)\n",
    "    y= np.array(y)\n",
    "    return x,y"
   ]
  },
  {
   "cell_type": "code",
   "execution_count": 11,
   "id": "79c4302c",
   "metadata": {},
   "outputs": [],
   "source": [
    "x_train, y_train = create_dataset(dataset_train)\n",
    "x_test, y_test = create_dataset(dataset_test)"
   ]
  },
  {
   "cell_type": "code",
   "execution_count": 12,
   "id": "8f8fb020",
   "metadata": {},
   "outputs": [],
   "source": [
    "model = Sequential()\n",
    "model.add(LSTM(units=96, return_sequences=True, input_shape=(x_train.shape[1], 1)))\n",
    "model.add(Dropout(0.2))\n",
    "model.add(LSTM(units=96, return_sequences=True))\n",
    "model.add(Dropout(0.2))\n",
    "model.add(LSTM(units=96, return_sequences=True))\n",
    "model.add(Dropout(0.2))\n",
    "model.add(LSTM(units=96))\n",
    "model.add(Dropout(0.2))\n",
    "model.add(Dense(units=1))"
   ]
  },
  {
   "cell_type": "code",
   "execution_count": 13,
   "id": "777f974a",
   "metadata": {},
   "outputs": [],
   "source": [
    "x_train = np.reshape(x_train, (x_train.shape[0], x_train.shape[1], 1))\n",
    "x_test = np.reshape(x_test, (x_test.shape[0], x_test.shape[1], 1))"
   ]
  },
  {
   "cell_type": "code",
   "execution_count": 14,
   "id": "1499d5b9",
   "metadata": {},
   "outputs": [],
   "source": [
    "model.compile(loss='mean_squared_error', optimizer='adam')"
   ]
  },
  {
   "cell_type": "code",
   "execution_count": 15,
   "id": "55dfea6b",
   "metadata": {},
   "outputs": [
    {
     "name": "stdout",
     "output_type": "stream",
     "text": [
      "Epoch 1/50\n",
      "24/24 [==============================] - 10s 133ms/step - loss: 0.0433\n",
      "Epoch 2/50\n",
      "24/24 [==============================] - 3s 123ms/step - loss: 0.0087\n",
      "Epoch 3/50\n",
      "24/24 [==============================] - 3s 122ms/step - loss: 0.0083\n",
      "Epoch 4/50\n",
      "24/24 [==============================] - 3s 123ms/step - loss: 0.0071\n",
      "Epoch 5/50\n",
      "24/24 [==============================] - 3s 119ms/step - loss: 0.0065\n",
      "Epoch 6/50\n",
      "24/24 [==============================] - 3s 118ms/step - loss: 0.0066\n",
      "Epoch 7/50\n",
      "24/24 [==============================] - 3s 126ms/step - loss: 0.0063\n",
      "Epoch 8/50\n",
      "24/24 [==============================] - 3s 118ms/step - loss: 0.0068\n",
      "Epoch 9/50\n",
      "24/24 [==============================] - 3s 118ms/step - loss: 0.0063\n",
      "Epoch 10/50\n",
      "24/24 [==============================] - 3s 117ms/step - loss: 0.0073\n",
      "Epoch 11/50\n",
      "24/24 [==============================] - 3s 129ms/step - loss: 0.0055\n",
      "Epoch 12/50\n",
      "24/24 [==============================] - 3s 141ms/step - loss: 0.0054\n",
      "Epoch 13/50\n",
      "24/24 [==============================] - 3s 123ms/step - loss: 0.0055\n",
      "Epoch 14/50\n",
      "24/24 [==============================] - 3s 119ms/step - loss: 0.0058\n",
      "Epoch 15/50\n",
      "24/24 [==============================] - 3s 123ms/step - loss: 0.0061\n",
      "Epoch 16/50\n",
      "24/24 [==============================] - 3s 120ms/step - loss: 0.0051\n",
      "Epoch 17/50\n",
      "24/24 [==============================] - 3s 117ms/step - loss: 0.0051\n",
      "Epoch 18/50\n",
      "24/24 [==============================] - 3s 122ms/step - loss: 0.0053\n",
      "Epoch 19/50\n",
      "24/24 [==============================] - 3s 124ms/step - loss: 0.0061\n",
      "Epoch 20/50\n",
      "24/24 [==============================] - 3s 116ms/step - loss: 0.0048\n",
      "Epoch 21/50\n",
      "24/24 [==============================] - 3s 123ms/step - loss: 0.0047\n",
      "Epoch 22/50\n",
      "24/24 [==============================] - 3s 131ms/step - loss: 0.0048\n",
      "Epoch 23/50\n",
      "24/24 [==============================] - 3s 116ms/step - loss: 0.0045\n",
      "Epoch 24/50\n",
      "24/24 [==============================] - 3s 117ms/step - loss: 0.0048\n",
      "Epoch 25/50\n",
      "24/24 [==============================] - 3s 117ms/step - loss: 0.0042\n",
      "Epoch 26/50\n",
      "24/24 [==============================] - 3s 117ms/step - loss: 0.0044\n",
      "Epoch 27/50\n",
      "24/24 [==============================] - 3s 117ms/step - loss: 0.0045\n",
      "Epoch 28/50\n",
      "24/24 [==============================] - 3s 117ms/step - loss: 0.0043\n",
      "Epoch 29/50\n",
      "24/24 [==============================] - 3s 117ms/step - loss: 0.0044\n",
      "Epoch 30/50\n",
      "24/24 [==============================] - 3s 117ms/step - loss: 0.0044\n",
      "Epoch 31/50\n",
      "24/24 [==============================] - 3s 117ms/step - loss: 0.0039\n",
      "Epoch 32/50\n",
      "24/24 [==============================] - 3s 122ms/step - loss: 0.0040\n",
      "Epoch 33/50\n",
      "24/24 [==============================] - 3s 118ms/step - loss: 0.0043\n",
      "Epoch 34/50\n",
      "24/24 [==============================] - 3s 117ms/step - loss: 0.0044\n",
      "Epoch 35/50\n",
      "24/24 [==============================] - 3s 118ms/step - loss: 0.0039\n",
      "Epoch 36/50\n",
      "24/24 [==============================] - 3s 120ms/step - loss: 0.0035\n",
      "Epoch 37/50\n",
      "24/24 [==============================] - 3s 115ms/step - loss: 0.0035\n",
      "Epoch 38/50\n",
      "24/24 [==============================] - 3s 114ms/step - loss: 0.0035\n",
      "Epoch 39/50\n",
      "24/24 [==============================] - 3s 116ms/step - loss: 0.0036\n",
      "Epoch 40/50\n",
      "24/24 [==============================] - 3s 115ms/step - loss: 0.0035\n",
      "Epoch 41/50\n",
      "24/24 [==============================] - 3s 117ms/step - loss: 0.0033\n",
      "Epoch 42/50\n",
      "24/24 [==============================] - 3s 116ms/step - loss: 0.0031\n",
      "Epoch 43/50\n",
      "24/24 [==============================] - 3s 117ms/step - loss: 0.0031\n",
      "Epoch 44/50\n",
      "24/24 [==============================] - 3s 117ms/step - loss: 0.0031\n",
      "Epoch 45/50\n",
      "24/24 [==============================] - 3s 117ms/step - loss: 0.0032\n",
      "Epoch 46/50\n",
      "24/24 [==============================] - 3s 117ms/step - loss: 0.0029\n",
      "Epoch 47/50\n",
      "24/24 [==============================] - 3s 116ms/step - loss: 0.0029\n",
      "Epoch 48/50\n",
      "24/24 [==============================] - 3s 116ms/step - loss: 0.0026\n",
      "Epoch 49/50\n",
      "24/24 [==============================] - 3s 116ms/step - loss: 0.0027\n",
      "Epoch 50/50\n",
      "24/24 [==============================] - 3s 117ms/step - loss: 0.0025\n"
     ]
    },
    {
     "name": "stderr",
     "output_type": "stream",
     "text": [
      "C:\\Users\\hp\\AppData\\Roaming\\Python\\Python310\\site-packages\\keras\\src\\engine\\training.py:3000: UserWarning: You are saving your model as an HDF5 file via `model.save()`. This file format is considered legacy. We recommend using instead the native Keras format, e.g. `model.save('my_model.keras')`.\n",
      "  saving_api.save_model(\n"
     ]
    }
   ],
   "source": [
    "model.fit(x_train, y_train, epochs=50, batch_size=32)\n",
    "model.save('stock_prediction.h5')"
   ]
  },
  {
   "cell_type": "code",
   "execution_count": 16,
   "id": "7de01582",
   "metadata": {},
   "outputs": [],
   "source": [
    "model = load_model('stock_prediction.h5')"
   ]
  },
  {
   "cell_type": "code",
   "execution_count": 17,
   "id": "585c98e5",
   "metadata": {},
   "outputs": [
    {
     "name": "stdout",
     "output_type": "stream",
     "text": [
      "5/5 [==============================] - 1s 36ms/step\n"
     ]
    },
    {
     "data": {
      "text/plain": [
       "<matplotlib.legend.Legend at 0x2c3542a05b0>"
      ]
     },
     "execution_count": 17,
     "metadata": {},
     "output_type": "execute_result"
    },
    {
     "data": {
      "image/png": "[encoded data removed]",
      "text/plain": [
       "<Figure size 1600x800 with 1 Axes>"
      ]
     },
     "metadata": {},
     "output_type": "display_data"
    }
   ],
   "source": [
    "predictions = model.predict(x_test)\n",
    "predictions = scaler.inverse_transform(predictions)\n",
    "y_test_scaled = scaler.inverse_transform(y_test.reshape(-1, 1))\n",
    "\n",
    "fig, ax = plt.subplots(figsize=(16,8))\n",
    "ax.set_facecolor('#000041')\n",
    "ax.plot(y_test_scaled, color='red', label='Original price')\n",
    "plt.plot(predictions, color='cyan', label='Predicted price')\n",
    "plt.legend()"
   ]
  },
  {
   "cell_type": "code",
   "execution_count": 18,
   "id": "b7d1c313",
   "metadata": {},
   "outputs": [],
   "source": [
    "from sklearn.metrics import mean_squared_error, r2_score\n",
    "\n",
    "def metrics(y_true, y_pred):\n",
    "    print(f'RMSS:',mean_squared_error(y_true, y_pred) **0.5 )\n",
    "    print(f'R_squared value:', r2_score(y_true, y_pred))\n",
    "    \n",
    "def accuracy(y_true, y_pred):\n",
    "    errors = abs(y_true - y_pred)\n",
    "    mape = 100 * np.mean(errors/y_true)\n",
    "    accuracy = 100 - mape\n",
    "    return accuracy\n"
   ]
  },
  {
   "cell_type": "code",
   "execution_count": 19,
   "id": "dee95aca",
   "metadata": {},
   "outputs": [
    {
     "name": "stdout",
     "output_type": "stream",
     "text": [
      "5/5 [==============================] - 0s 36ms/step\n"
     ]
    }
   ],
   "source": [
    "y_pred = model.predict(x_test)"
   ]
  },
  {
   "cell_type": "code",
   "execution_count": 20,
   "id": "b53167ef",
   "metadata": {},
   "outputs": [
    {
     "name": "stdout",
     "output_type": "stream",
     "text": [
      "RMSS: 0.08693540657418213\n",
      "R_squared value: 0.8231538623948607\n"
     ]
    }
   ],
   "source": [
    "metrics(y_test, y_pred)"
   ]
  },
  {
   "cell_type": "code",
   "execution_count": 21,
   "id": "ee5045c4",
   "metadata": {},
   "outputs": [
    {
     "data": {
      "text/plain": [
       "76.15700323440691"
      ]
     },
     "execution_count": 21,
     "metadata": {},
     "output_type": "execute_result"
    }
   ],
   "source": [
    "accuracy(y_test, y_pred)"
   ]
  },
  {
   "cell_type": "code",
   "execution_count": null,
   "id": "0581020f",
   "metadata": {},
   "outputs": [],
   "source": []
  }
 ],
 "metadata": {
  "kernelspec": {
   "display_name": "Python 3 (ipykernel)",
   "language": "python",
   "name": "python3"
  },
  "language_info": {
   "codemirror_mode": {
    "name": "ipython",
    "version": 3
   },
   "file_extension": ".py",
   "mimetype": "text/x-python",
   "name": "python",
   "nbconvert_exporter": "python",
   "pygments_lexer": "ipython3",
   "version": "3.10.9"
  }
 },
 "nbformat": 4,
 "nbformat_minor": 5
}
